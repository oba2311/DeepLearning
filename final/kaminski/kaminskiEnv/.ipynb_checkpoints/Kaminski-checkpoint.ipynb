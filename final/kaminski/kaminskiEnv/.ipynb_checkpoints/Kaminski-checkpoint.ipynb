{
 "cells": [
  {
   "cell_type": "code",
   "execution_count": 1,
   "metadata": {},
   "outputs": [
    {
     "name": "stderr",
     "output_type": "stream",
     "text": [
      "Using TensorFlow backend.\n"
     ]
    }
   ],
   "source": [
    "'''Neural style transfer with Keras.\n",
    "Run the script with:\n",
    "```\n",
    "python neural_style_transfer.py path_to_your_base_image.jpg \\\n",
    "    path_to_your_reference.jpg prefix_for_results\n",
    "```\n",
    "e.g.:\n",
    "```\n",
    "python neural_style_transfer.py img/tuebingen.jpg \\\n",
    "    img/starry_night.jpg results/my_result\n",
    "```\n",
    "Optional parameters:\n",
    "```\n",
    "--iter, To specify the number of iterations \\\n",
    "    the style transfer takes place (Default is 10)\n",
    "--content_weight, The weight given to the content loss (Default is 0.025)\n",
    "--style_weight, The weight given to the style loss (Default is 1.0)\n",
    "--tv_weight, The weight given to the total variation loss (Default is 1.0)\n",
    "```\n",
    "It is preferable to run this script on GPU, for speed.\n",
    "Example result: https://twitter.com/fchollet/status/686631033085677568\n",
    "# Details\n",
    "Style transfer consists in generating an image\n",
    "with the same \"content\" as a base image, but with the\n",
    "\"style\" of a different picture (typically artistic).\n",
    "This is achieved through the optimization of a loss function\n",
    "that has 3 components: \"style loss\", \"content loss\",\n",
    "and \"total variation loss\":\n",
    "- The total variation loss imposes local spatial continuity between\n",
    "the pixels of the combination image, giving it visual coherence.\n",
    "- The style loss is where the deep learning keeps in --that one is defined\n",
    "using a deep convolutional neural network. Precisely, it consists in a sum of\n",
    "L2 distances between the Gram matrices of the representations of\n",
    "the base image and the style reference image, extracted from\n",
    "different layers of a convnet (trained on ImageNet). The general idea\n",
    "is to capture color/texture information at different spatial\n",
    "scales (fairly large scales --defined by the depth of the layer considered).\n",
    " - The content loss is a L2 distance between the features of the base\n",
    "image (extracted from a deep layer) and the features of the combination image,\n",
    "keeping the generated image close enough to the original one.\n",
    "# References\n",
    "    - [A Neural Algorithm of Artistic Style](http://arxiv.org/abs/1508.06576)\n",
    "'''\n",
    "\n",
    "from __future__ import print_function\n",
    "from keras.preprocessing.image import load_img, save_img, img_to_array\n",
    "import numpy as np\n",
    "from scipy.optimize import fmin_l_bfgs_b\n",
    "import time\n",
    "import argparse\n",
    "\n",
    "from keras.applications import vgg19\n",
    "from keras import backend as K"
   ]
  },
  {
   "cell_type": "code",
   "execution_count": 4,
   "metadata": {},
   "outputs": [
    {
     "data": {
      "text/plain": [
       "_StoreAction(option_strings=['--tv_weight'], dest='tv_weight', nargs=None, const=None, default=1.0, type=<class 'float'>, choices=None, help='Total Variation weight.', metavar=None)"
      ]
     },
     "execution_count": 4,
     "metadata": {},
     "output_type": "execute_result"
    }
   ],
   "source": [
    "\n",
    "\n",
    "parser = argparse.ArgumentParser(description='Neural style transfer with Keras.')\n",
    "parser.add_argument('base_image_path', metavar='base', type=str,\n",
    "                    help='Path to the image to transform.')\n",
    "parser.add_argument('style_reference_image_path', metavar='ref', type=str,\n",
    "                    help='Path to the style reference image.')\n",
    "parser.add_argument('result_prefix', metavar='res_prefix', type=str,\n",
    "                    help='Prefix for the saved results.')\n",
    "parser.add_argument('--iter', type=int, default=10, required=False,\n",
    "                    help='Number of iterations to run.')\n",
    "parser.add_argument('--content_weight', type=float, default=0.025, required=False,\n",
    "                    help='Content weight.')\n",
    "parser.add_argument('--style_weight', type=float, default=1.0, required=False,\n",
    "                    help='Style weight.')\n",
    "parser.add_argument('--tv_weight', type=float, default=1.0, required=False,\n",
    "                    help='Total Variation weight.')"
   ]
  },
  {
   "cell_type": "code",
   "execution_count": null,
   "metadata": {},
   "outputs": [],
   "source": []
  }
 ],
 "metadata": {
  "kernelspec": {
   "display_name": "Python 3",
   "language": "python",
   "name": "python3"
  },
  "language_info": {
   "codemirror_mode": {
    "name": "ipython",
    "version": 3
   },
   "file_extension": ".py",
   "mimetype": "text/x-python",
   "name": "python",
   "nbconvert_exporter": "python",
   "pygments_lexer": "ipython3",
   "version": "3.6.7"
  }
 },
 "nbformat": 4,
 "nbformat_minor": 2
}
